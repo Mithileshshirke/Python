{
 "cells": [
  {
   "cell_type": "code",
   "execution_count": 38,
   "metadata": {},
   "outputs": [],
   "source": [
    "#create file\n",
    "t=open('story.txt','w')\n",
    "lines=('A boy is playing there.\\n','There is a playground.\\n','An aeroplane is in the sky.\\n',\n",
    "       'The sky is pink.\\n','Alphabets and numbers are allowed in the password.')\n",
    "t.writelines(lines)#to write multiple lines\n",
    "t.close() #close() method use to covert temporary file as permanent file"
   ]
  },
  {
   "cell_type": "markdown",
   "metadata": {},
   "source": [
    "1.Create function to count number of lines not starting with T"
   ]
  },
  {
   "cell_type": "code",
   "execution_count": 39,
   "metadata": {},
   "outputs": [],
   "source": [
    "def countlines(filename): #user defined function with one passing argument but no return value\n",
    "    file=filename +'.txt'\n",
    "    t=open(file,'r') #Open file to read\n",
    "    a=t.readlines() #read multiple lines\n",
    "    c=0 #initial count\n",
    "    for line in a:\n",
    "        if line[0]!='T': \n",
    "            c+=1 #increment\n",
    "        else:\n",
    "            continue\n",
    "    print('Number of lines not starting with T : ',c)\n",
    "    "
   ]
  },
  {
   "cell_type": "markdown",
   "metadata": {},
   "source": [
    "2.Create a function display_words() in python to read lines from a text file \"story.txt\", \n",
    "and display those words, which are less than 4 characters."
   ]
  },
  {
   "cell_type": "code",
   "execution_count": 40,
   "metadata": {},
   "outputs": [],
   "source": [
    "def display_words(filename):#user defined function with one passing argument but no return value\n",
    "    file=filename +'.txt'\n",
    "    t=open(file,'r') #Open file to read\n",
    "    line=t.read()#read .txt file\n",
    "    word=line.split() #inbuilt method split() used to store words separated by space in list\n",
    "    print('Words which are less than 4 characters are :')\n",
    "    for w in word:\n",
    "        if len(w)<4: #inbuilt function len() used to count no.characters in word\n",
    "            print(w,end='\\n')\n",
    "        else:\n",
    "            continue"
   ]
  },
  {
   "cell_type": "markdown",
   "metadata": {},
   "source": [
    "Calling user defined functions"
   ]
  },
  {
   "cell_type": "code",
   "execution_count": 41,
   "metadata": {},
   "outputs": [
    {
     "name": "stdout",
     "output_type": "stream",
     "text": [
      "Enter Filename : story\n",
      "Number of lines not starting with T :  3\n",
      "Words which are less than 4 characters are :\n",
      "A\n",
      "boy\n",
      "is\n",
      "is\n",
      "a\n",
      "An\n",
      "is\n",
      "in\n",
      "the\n",
      "The\n",
      "sky\n",
      "is\n",
      "and\n",
      "are\n",
      "in\n",
      "the\n"
     ]
    }
   ],
   "source": [
    "file=input('Enter Filename : ') # filename=story\n",
    "countlines(file) #calling user defined function\n",
    "display_words(file)#calling user defined function"
   ]
  },
  {
   "cell_type": "markdown",
   "metadata": {},
   "source": [
    "3.Write a function in Python to copy the content of stroy.txt into story2.txt file. "
   ]
  },
  {
   "cell_type": "code",
   "execution_count": 42,
   "metadata": {},
   "outputs": [],
   "source": [
    "t=open('story.txt','r')\n",
    "r=t.read()\n",
    "t1=open('story2.txt','w')\n",
    "t1.write(r)\n",
    "t1.close()"
   ]
  },
  {
   "cell_type": "code",
   "execution_count": 43,
   "metadata": {},
   "outputs": [
    {
     "name": "stdout",
     "output_type": "stream",
     "text": [
      "A boy is playing there.\n",
      "\n",
      "There is a playground.\n",
      "\n",
      "An aeroplane is in the sky.\n",
      "\n",
      "The sky is pink.\n",
      "\n",
      "Alphabets and numbers are allowed in the password.\n"
     ]
    }
   ],
   "source": [
    "t=open('story2.txt','r')\n",
    "a=t.readlines()\n",
    "for lines in a:\n",
    "    print(lines)"
   ]
  },
  {
   "cell_type": "code",
   "execution_count": null,
   "metadata": {},
   "outputs": [],
   "source": []
  }
 ],
 "metadata": {
  "kernelspec": {
   "display_name": "Python 3",
   "language": "python",
   "name": "python3"
  },
  "language_info": {
   "codemirror_mode": {
    "name": "ipython",
    "version": 3
   },
   "file_extension": ".py",
   "mimetype": "text/x-python",
   "name": "python",
   "nbconvert_exporter": "python",
   "pygments_lexer": "ipython3",
   "version": "3.8.5"
  }
 },
 "nbformat": 4,
 "nbformat_minor": 4
}
