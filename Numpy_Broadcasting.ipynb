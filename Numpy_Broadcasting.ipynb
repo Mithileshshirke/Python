{
 "cells": [
  {
   "cell_type": "markdown",
   "metadata": {},
   "source": [
    "Q.what is broadcasting in numpy explain with example what are different rules in broadcasting"
   ]
  },
  {
   "cell_type": "code",
   "execution_count": 1,
   "metadata": {},
   "outputs": [],
   "source": [
    "#Broadcasting\n",
    "import numpy as np"
   ]
  },
  {
   "cell_type": "markdown",
   "metadata": {},
   "source": [
    "Rule 1\n",
    "\n",
    "In arithmetics operations both array must have same shape."
   ]
  },
  {
   "cell_type": "code",
   "execution_count": 2,
   "metadata": {},
   "outputs": [
    {
     "name": "stdout",
     "output_type": "stream",
     "text": [
      "[[1 2]\n",
      " [3 4]]\n",
      "Shape of a :  (2, 2)\n",
      "[[1 1]\n",
      " [2 2]]\n",
      "Shape of b :  (2, 2)\n",
      "[[2 3]\n",
      " [5 6]]\n",
      "Shape of a :  (2, 2)\n"
     ]
    }
   ],
   "source": [
    "#both rows and columns are equal\n",
    "a=np.array([[1,2],[3,4]])\n",
    "b=np.array([[1,1],[2,2]])\n",
    "print(a)\n",
    "print('Shape of a : ',a.shape)#shape inbuilt method to find dimensions of matrix\n",
    "print(b)\n",
    "print('Shape of b : ',b.shape)\n",
    "c=np.add(a,b)\n",
    "print(c)\n",
    "print('Shape of a : ',a.shape)"
   ]
  },
  {
   "cell_type": "markdown",
   "metadata": {},
   "source": [
    "Rule 2\n",
    "\n",
    "If shapes of both arrays are different then atleast row or column of one array should be equal to 1."
   ]
  },
  {
   "cell_type": "code",
   "execution_count": 3,
   "metadata": {},
   "outputs": [
    {
     "name": "stdout",
     "output_type": "stream",
     "text": [
      "[[1 2]\n",
      " [3 4]\n",
      " [1 1]]\n",
      "Shape of a :  (3, 2)\n",
      "[1 2]\n",
      "Shape of b :  (2,)\n",
      "[[2 4]\n",
      " [4 6]\n",
      " [2 3]]\n",
      "Shape of a :  (3, 2)\n"
     ]
    }
   ],
   "source": [
    "#here column of 2nd array is equal to 1\n",
    "a=np.array([[1,2],[3,4],[1,1]])\n",
    "b=np.array([1,2])\n",
    "print(a)\n",
    "print('Shape of a : ',a.shape)\n",
    "print(b)\n",
    "print('Shape of b : ',b.shape)\n",
    "c=np.add(a,b)\n",
    "print(c)\n",
    "print('Shape of a : ',a.shape)"
   ]
  },
  {
   "cell_type": "code",
   "execution_count": null,
   "metadata": {},
   "outputs": [],
   "source": []
  }
 ],
 "metadata": {
  "kernelspec": {
   "display_name": "Python 3",
   "language": "python",
   "name": "python3"
  },
  "language_info": {
   "codemirror_mode": {
    "name": "ipython",
    "version": 3
   },
   "file_extension": ".py",
   "mimetype": "text/x-python",
   "name": "python",
   "nbconvert_exporter": "python",
   "pygments_lexer": "ipython3",
   "version": "3.8.5"
  }
 },
 "nbformat": 4,
 "nbformat_minor": 4
}
