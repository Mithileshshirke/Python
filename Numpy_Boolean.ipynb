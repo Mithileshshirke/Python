{
 "cells": [
  {
   "cell_type": "markdown",
   "metadata": {},
   "source": [
    "Q.what is boolean indexing explain with example?"
   ]
  },
  {
   "cell_type": "markdown",
   "metadata": {},
   "source": [
    "Ans.\n",
    "\n",
    "Boolean indexing is defined as a very important feature of numpy,\n",
    "which is frequently used in pandas.\n",
    "\n",
    "Its main task is to use the actual values of the data in the DataFrame.\n",
    "\n",
    "Boolean value : True or False\n"
   ]
  },
  {
   "cell_type": "code",
   "execution_count": 4,
   "metadata": {},
   "outputs": [
    {
     "name": "stdout",
     "output_type": "stream",
     "text": [
      "[[ 0 20  3]\n",
      " [-4  5 -6]\n",
      " [ 7  0 98]]\n",
      "[[False  True False]\n",
      " [False False False]\n",
      " [ True False  True]]\n"
     ]
    }
   ],
   "source": [
    "import numpy as np\n",
    "a=np.array([[0,20,3],[-4,5,-6],[7,0,98]])\n",
    "print(a)\n",
    "print(a>5) #boolean indexing of array a"
   ]
  },
  {
   "cell_type": "code",
   "execution_count": 7,
   "metadata": {},
   "outputs": [
    {
     "name": "stdout",
     "output_type": "stream",
     "text": [
      "[[False  True  True]\n",
      " [ True  True  True]\n",
      " [ True False  True]]\n"
     ]
    }
   ],
   "source": [
    "#if we want to give boolean indexing according to our condition\n",
    "boolean=np.where(a==0,False,True)#if value equals to zero then False ow True\n",
    "print(boolean)"
   ]
  },
  {
   "cell_type": "code",
   "execution_count": null,
   "metadata": {},
   "outputs": [],
   "source": []
  }
 ],
 "metadata": {
  "kernelspec": {
   "display_name": "Python 3",
   "language": "python",
   "name": "python3"
  },
  "language_info": {
   "codemirror_mode": {
    "name": "ipython",
    "version": 3
   },
   "file_extension": ".py",
   "mimetype": "text/x-python",
   "name": "python",
   "nbconvert_exporter": "python",
   "pygments_lexer": "ipython3",
   "version": "3.8.5"
  }
 },
 "nbformat": 4,
 "nbformat_minor": 4
}
