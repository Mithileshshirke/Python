{
 "cells": [
  {
   "cell_type": "markdown",
   "metadata": {},
   "source": [
    "Write a Python program to get movie name, year and a brief summary of the top 10 random movies."
   ]
  },
  {
   "cell_type": "code",
   "execution_count": 128,
   "metadata": {},
   "outputs": [],
   "source": [
    "import requests\n",
    "import bs4"
   ]
  },
  {
   "cell_type": "code",
   "execution_count": 129,
   "metadata": {
    "scrolled": false
   },
   "outputs": [],
   "source": [
    "url='https://en.wikipedia.org/wiki/List_of_highest-grossing_Indian_films'\n",
    "response=requests.get(url)\n",
    "soup=bs4.BeautifulSoup(response.text,'html.parser')\n",
    "tables=soup.find_all('table',{'class':'wikitable sortable'})\n",
    "table=tables[0]\n",
    "rows=table.find_all('tr')"
   ]
  },
  {
   "cell_type": "code",
   "execution_count": 130,
   "metadata": {
    "scrolled": false
   },
   "outputs": [
    {
     "name": "stdout",
     "output_type": "stream",
     "text": [
      "Rank :  1\n",
      "\n",
      "Film :  Dangal\n",
      "\n",
      "Year :  2016\n",
      "\n",
      "Primary Language :  Hindi\n",
      "\n",
      "Worldwide gross :   ₹2,024 crore (US$287 million)\n",
      "\n",
      "Rank :  2\n",
      "\n",
      "Film :  Baahubali 2: The Conclusion\n",
      "\n",
      "Year :  2017\n",
      "\n",
      "Primary Language :  TeluguTamil\n",
      "\n",
      "Worldwide gross :   ₹1,810 crore (US$257 million)\n",
      "\n",
      "Rank :  3\n",
      "\n",
      "Film :  Bajrangi Bhaijaan\n",
      "\n",
      "Year :  2015\n",
      "\n",
      "Primary Language :  Hindi\n",
      "\n",
      "Worldwide gross :   ₹969.06 crore (US$150 million)\n",
      "\n",
      "Rank :  4\n",
      "\n",
      "Film :  Secret Superstar\n",
      "\n",
      "Year :  2017\n",
      "\n",
      "Primary Language :  Hindi\n",
      "\n",
      "Worldwide gross :   ₹966.86 crore (US$154 million)\n",
      "\n",
      "Rank :  5\n",
      "\n",
      "Film :  PK\n",
      "\n",
      "Year :  2014\n",
      "\n",
      "Primary Language :  Hindi\n",
      "\n",
      "Worldwide gross :   ₹832 crore (US$120 million)\n",
      "\n",
      "Rank :  6\n",
      "\n",
      "Film :  2.0\n",
      "\n",
      "Year :  2018\n",
      "\n",
      "Primary Language :  Tamil\n",
      "\n",
      "Worldwide gross :   ₹800 crore (US$114 million)\n",
      "\n",
      "Rank :  7\n",
      "\n",
      "Film :  Baahubali: The Beginning\n",
      "\n",
      "Year :  2015\n",
      "\n",
      "Primary Language :  TeluguTamil\n",
      "\n",
      "Worldwide gross :   ₹650 crore (US$101 million)\n",
      "\n",
      "Rank :  8\n",
      "\n",
      "Film :  Sultan\n",
      "\n",
      "Year :  2016\n",
      "\n",
      "Primary Language :  Hindi\n",
      "\n",
      "Worldwide gross :   ₹623.33 crore (US$89 million)\n",
      "\n",
      "Rank :  9\n",
      "\n",
      "Film :  Sanju\n",
      "\n",
      "Year :  2018\n",
      "\n",
      "Primary Language :  Hindi\n",
      "\n",
      "Worldwide gross :   ₹586.85 crore (US$83.34 million)\n",
      "\n",
      "Rank :  10\n",
      "\n",
      "Film :  Padmaavat\n",
      "\n",
      "Year :  2018\n",
      "\n",
      "Primary Language :  Hindi\n",
      "\n",
      "Worldwide gross :   ₹585 crore (US$83 million)\n",
      "\n"
     ]
    }
   ],
   "source": [
    "data=rows[1:11]\n",
    "for row in data:\n",
    "    data1=row.find_all('td')\n",
    "    print('Rank : ',data1[0].text)\n",
    "    print('Film : ',data1[2].text)\n",
    "    print('Year : ',data1[3].text)\n",
    "    print('Primary Language : ',data1[6].text)\n",
    "    print('Worldwide gross : ',data1[7].text)"
   ]
  },
  {
   "cell_type": "code",
   "execution_count": null,
   "metadata": {},
   "outputs": [],
   "source": []
  },
  {
   "cell_type": "code",
   "execution_count": null,
   "metadata": {},
   "outputs": [],
   "source": []
  }
 ],
 "metadata": {
  "kernelspec": {
   "display_name": "Python 3",
   "language": "python",
   "name": "python3"
  },
  "language_info": {
   "codemirror_mode": {
    "name": "ipython",
    "version": 3
   },
   "file_extension": ".py",
   "mimetype": "text/x-python",
   "name": "python",
   "nbconvert_exporter": "python",
   "pygments_lexer": "ipython3",
   "version": "3.8.5"
  }
 },
 "nbformat": 4,
 "nbformat_minor": 4
}
