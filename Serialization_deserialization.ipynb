{
 "cells": [
  {
   "cell_type": "markdown",
   "metadata": {},
   "source": [
    "1) Store all account objects in a list and store that list in a file using serialization.\n",
    "\n",
    "2) De-serialize the same file and read the balance for all account objects"
   ]
  },
  {
   "cell_type": "code",
   "execution_count": 8,
   "metadata": {},
   "outputs": [],
   "source": [
    "#serialization\n",
    "import pickle as p\n",
    "myaccount=[{'name':'Abc','accno':1234567891234567,'balance':10000},{'name':'Xyz','accno':7894561231234567,'balance':200000}]\n",
    "file=open('account.ser','wb') #wb used to write in binary format\n",
    "p.dump(myaccount,file) #dump() is method of pickle module to write\n",
    "file.close()"
   ]
  },
  {
   "cell_type": "code",
   "execution_count": 9,
   "metadata": {},
   "outputs": [
    {
     "name": "stdout",
     "output_type": "stream",
     "text": [
      "Balance :  10000\n",
      "Balance :  200000\n"
     ]
    }
   ],
   "source": [
    "#Deserialization\n",
    "file=open('account.ser','rb')#rb used to read binary binary format\n",
    "acc=p.load(file) #load() is method of pickle module to read\n",
    "for i in acc:\n",
    "    print('Balance : ',i['balance'])#read balance for all account objects"
   ]
  },
  {
   "cell_type": "code",
   "execution_count": null,
   "metadata": {},
   "outputs": [],
   "source": []
  }
 ],
 "metadata": {
  "kernelspec": {
   "display_name": "Python 3",
   "language": "python",
   "name": "python3"
  },
  "language_info": {
   "codemirror_mode": {
    "name": "ipython",
    "version": 3
   },
   "file_extension": ".py",
   "mimetype": "text/x-python",
   "name": "python",
   "nbconvert_exporter": "python",
   "pygments_lexer": "ipython3",
   "version": "3.8.5"
  }
 },
 "nbformat": 4,
 "nbformat_minor": 4
}
